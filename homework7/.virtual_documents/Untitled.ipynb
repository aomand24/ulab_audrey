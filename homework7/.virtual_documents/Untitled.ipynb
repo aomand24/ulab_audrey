import numpy as np
import matplotlib.pyplot as plt


# making a line plot

# creating a figure 
plt.figure(figsize=(8,6)) # (blank canvas)

# data
x=[1,2,3,4,5,6]
y=[3,6,9,12,15,18]

# add a title
plt.title("x vs y (linear relationship)")
plt.xlabel("x-axis")
plt.ylabel("y-axis")

# create a line plot
plt.plot(x,y, label="f(x)=3x", linestyle="--", color="blue")
plt.scatter(x,y,label="data", marker="*", color="orange")
plt.legend()


from PIL import Image


#plotting something cool
suprise=Image.open("suprise.webp")


suprise=Image.open("suprise.webp")
plt.imshow(suprise)
plt.axis("off")
plt.show()


# back to practical
# plotting a function



# create a range of x values from -2pi to 2pi
# start stop step for np.linspace
x_data=np.linspace(-2*np.pi, 2*np.pi, 1000)

# define function
y_1=np.sin(x_data)-np.cos(x_data)
y_2=np.sin(x_data)+np.cos(x_data)


# plotting trig functions
plt.title("sin-cos and sin+cos")
plt.plot(x_data,y_1)
plt.plot(x_data,y_2)

plt.show()

plt.title("sin-cos")
plt.plot(x_data,y_1)
plt.show()

plt.title("sin+cos")
plt.plot(x_data,y_2, color="orange")
plt.show()


# subplots
# setting boundary of our figure
fig,ax=plt.subplots(2,2,figsize=(10,10))
ax[0,0].plot(x,y)

ax[1,0].plot(x_data,y_1)
ax[1,1].plot(x_data,y_2)

# you can loop through subplots
for i,ax in enumerate(ax.flat):
    ax.set_title(f"Frame {i+1}")
    print(i)
plt.show






