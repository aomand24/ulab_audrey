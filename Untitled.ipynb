{
 "cells": [
  {
   "cell_type": "code",
   "execution_count": null,
   "id": "c2f6495d-5b97-4dd2-acea-6187d97057b1",
   "metadata": {},
   "outputs": [],
   "source": [
    "type(1)"
   ]
  },
  {
   "cell_type": "code",
   "execution_count": null,
   "id": "2f6e9dd1-c3f2-450e-9c01-aac41f7668db",
   "metadata": {},
   "outputs": [],
   "source": [
    "2+2"
   ]
  },
  {
   "cell_type": "code",
   "execution_count": 3,
   "id": "030c4ffe-aed8-4164-8952-85ac28f3101c",
   "metadata": {},
   "outputs": [
    {
     "data": {
      "text/plain": [
       "'python is awesome'"
      ]
     },
     "execution_count": 3,
     "metadata": {},
     "output_type": "execute_result"
    }
   ],
   "source": [
    "# add strings\n",
    "\"python\"+\" \"+\"is\"+\" \"+\"awesome\""
   ]
  },
  {
   "cell_type": "code",
   "execution_count": 5,
   "id": "95c64b96-3bd4-4a69-9dca-7856eb002109",
   "metadata": {},
   "outputs": [
    {
     "name": "stdout",
     "output_type": "stream",
     "text": [
      "2\n"
     ]
    }
   ],
   "source": [
    "# set multiple variables at once\n",
    "m,n,p=2,4,6\n",
    "print(m)"
   ]
  },
  {
   "cell_type": "code",
   "execution_count": 7,
   "id": "8fd4dfc7-36da-4ff5-bf49-d17cd6618e67",
   "metadata": {},
   "outputs": [
    {
     "name": "stdout",
     "output_type": "stream",
     "text": [
      "10\n",
      "10\n"
     ]
    }
   ],
   "source": [
    "# set variables to same value\n",
    "a=b=c=10\n",
    "print(a)\n",
    "print(c)"
   ]
  },
  {
   "cell_type": "code",
   "execution_count": 9,
   "id": "45f907c6-f46f-4b5e-9824-f71a4dc89fab",
   "metadata": {},
   "outputs": [
    {
     "name": "stdout",
     "output_type": "stream",
     "text": [
      "10\n",
      "5\n"
     ]
    }
   ],
   "source": [
    "print(a)\n",
    "a=5\n",
    "print(a)"
   ]
  },
  {
   "cell_type": "code",
   "execution_count": 11,
   "id": "b295c998-4be3-49ab-901b-7baf8caa25bf",
   "metadata": {},
   "outputs": [
    {
     "data": {
      "text/plain": [
       "'Hello Caitlin!'"
      ]
     },
     "execution_count": 11,
     "metadata": {},
     "output_type": "execute_result"
    }
   ],
   "source": [
    "# Functions!\n",
    "# making a new function by \"def function(argument):\"\n",
    "def greet(name):\n",
    "    talk = \"Hello\" + \" \" + name +\"!\"\n",
    "    return talk\n",
    "\n",
    "greet(\"Caitlin\")"
   ]
  },
  {
   "cell_type": "code",
   "execution_count": 13,
   "id": "fc360521-36f5-4c55-937d-c0d078c7fe7b",
   "metadata": {},
   "outputs": [
    {
     "data": {
      "text/plain": [
       "\"Audrey's favorite color is green.\""
      ]
     },
     "execution_count": 13,
     "metadata": {},
     "output_type": "execute_result"
    }
   ],
   "source": [
    "# functions can have default arguments\n",
    "def fav_color(color,person):\n",
    "    sentence = person + \"'s favorite color is \" + color+\".\"\n",
    "    return sentence\n",
    "\n",
    "fav_color(color=\"green\",person=\"Audrey\")"
   ]
  },
  {
   "cell_type": "code",
   "execution_count": 15,
   "id": "12c6e49d-06cf-4250-937c-5dd4c2d3f012",
   "metadata": {},
   "outputs": [
    {
     "data": {
      "text/plain": [
       "\"Josh's favorite color is blue\""
      ]
     },
     "execution_count": 15,
     "metadata": {},
     "output_type": "execute_result"
    }
   ],
   "source": [
    "def favorite_color(color, person=\"Josh\"):\n",
    "    sentence = person + \"'s favorite color is \"+color\n",
    "    return sentence\n",
    "\n",
    "favorite_color(color=\"blue\")"
   ]
  },
  {
   "cell_type": "code",
   "execution_count": 19,
   "id": "fe15d605-a15e-474c-859a-bc25bd8219eb",
   "metadata": {},
   "outputs": [
    {
     "name": "stdout",
     "output_type": "stream",
     "text": [
      "6.0\n"
     ]
    }
   ],
   "source": [
    "# practice good coding skills\n",
    "def area_of_triangle(base,height):\n",
    "    #computes area of a triangle\n",
    "    #area=1/2(base*height)\n",
    "    \n",
    "    equation = 0.5*base*height\n",
    "    return equation\n",
    "my_base=3\n",
    "my_height=4\n",
    "my_area=area_of_triangle(my_base,my_height)\n",
    "print(my_area)"
   ]
  },
  {
   "cell_type": "code",
   "execution_count": 21,
   "id": "0207088b-522e-4f93-a26c-e17b130b2ae4",
   "metadata": {},
   "outputs": [
    {
     "name": "stdout",
     "output_type": "stream",
     "text": [
      "10\n"
     ]
    }
   ],
   "source": [
    "# Global vs local variables\n",
    "x=10\n",
    "def display_variable1():\n",
    "    print(x)\n",
    "    \n",
    "display_variable1()"
   ]
  },
  {
   "cell_type": "code",
   "execution_count": 27,
   "id": "5986570e-80cf-4cc0-b80d-3a605efc7880",
   "metadata": {},
   "outputs": [
    {
     "name": "stdout",
     "output_type": "stream",
     "text": [
      "5\n"
     ]
    }
   ],
   "source": [
    "# local\n",
    "def display_variable2():\n",
    "    y=5\n",
    "    print(y)\n",
    "\n",
    "display_variable2()\n",
    "# cannot use print(y) because it is not defined outside of funtion"
   ]
  },
  {
   "cell_type": "code",
   "execution_count": 31,
   "id": "f270d6b9-e66f-418e-9136-3208eeed6269",
   "metadata": {},
   "outputs": [
    {
     "name": "stdout",
     "output_type": "stream",
     "text": [
      "6\n"
     ]
    }
   ],
   "source": [
    "x=3\n",
    "x+=3\n",
    "print(x)\n",
    "#added 3 onto variable x"
   ]
  },
  {
   "cell_type": "code",
   "execution_count": 35,
   "id": "777f9cfd-0d04-4fb2-a49c-d02917ecb0c9",
   "metadata": {},
   "outputs": [
    {
     "name": "stdout",
     "output_type": "stream",
     "text": [
      "9\n"
     ]
    }
   ],
   "source": [
    "y=x+3\n",
    "print(y)\n",
    "#3+3 is carried on from x=3"
   ]
  },
  {
   "cell_type": "code",
   "execution_count": null,
   "id": "c50f4682-a22e-4296-95e5-173b0107344b",
   "metadata": {},
   "outputs": [],
   "source": []
  }
 ],
 "metadata": {
  "kernelspec": {
   "display_name": "Python 3 (ipykernel)",
   "language": "python",
   "name": "python3"
  },
  "language_info": {
   "codemirror_mode": {
    "name": "ipython",
    "version": 3
   },
   "file_extension": ".py",
   "mimetype": "text/x-python",
   "name": "python",
   "nbconvert_exporter": "python",
   "pygments_lexer": "ipython3",
   "version": "3.12.4"
  }
 },
 "nbformat": 4,
 "nbformat_minor": 5
}
