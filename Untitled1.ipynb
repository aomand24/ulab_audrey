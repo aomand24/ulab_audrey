{
 "cells": [
  {
   "cell_type": "code",
   "execution_count": 1,
   "id": "2285032d-25c4-4a7a-b9eb-67e75e7a3195",
   "metadata": {},
   "outputs": [
    {
     "name": "stdout",
     "output_type": "stream",
     "text": [
      "8\n"
     ]
    }
   ],
   "source": [
    "x=2\n",
    "y=3\n",
    "def power(x,y):\n",
    "    pow=1\n",
    "    for i in range(y):\n",
    "        pow=pow*x\n",
    "    return pow\n",
    "print(power(x,y))"
   ]
  },
  {
   "cell_type": "code",
   "execution_count": 9,
   "id": "f706395f-d48d-44c7-8e11-42b6aaa820f4",
   "metadata": {},
   "outputs": [
    {
     "name": "stdout",
     "output_type": "stream",
     "text": [
      "2\n"
     ]
    }
   ],
   "source": [
    "numbers=[2024,98,131,2,3,72]\n",
    "def minimum(numbers):\n",
    "    min_value=numbers[0]\n",
    "    for number in numbers:\n",
    "        if number < min_value:\n",
    "            min_value=number\n",
    "    return min_value\n",
    "print(minimum(numbers))"
   ]
  },
  {
   "cell_type": "code",
   "execution_count": 11,
   "id": "8bd69248-87b5-48f2-ae19-a769744b1f56",
   "metadata": {},
   "outputs": [
    {
     "name": "stdout",
     "output_type": "stream",
     "text": [
      "2024\n"
     ]
    }
   ],
   "source": [
    "numbers = [2024,98,131,2,3,72]\n",
    "def maximum(numbers):\n",
    "    max_value=numbers[0]\n",
    "    for number in numbers:\n",
    "        if number>max_value:\n",
    "            max_value=number\n",
    "    return max_value\n",
    "print(maximum(numbers))"
   ]
  },
  {
   "cell_type": "code",
   "execution_count": 13,
   "id": "b73ced7c-fed7-434f-a104-602f35021c56",
   "metadata": {},
   "outputs": [
    {
     "name": "stdout",
     "output_type": "stream",
     "text": [
      "20\n"
     ]
    }
   ],
   "source": [
    "num=2468\n",
    "def digital_root(num):\n",
    "    sum=0\n",
    "    for digit in str(num):\n",
    "        sum += int(digit)\n",
    "    return sum\n",
    "print(digital_root(num))"
   ]
  },
  {
   "cell_type": "code",
   "execution_count": 15,
   "id": "eade0026-2eea-4a04-b6ab-34752d0c11f0",
   "metadata": {},
   "outputs": [
    {
     "ename": "TypeError",
     "evalue": "'type' object is not iterable",
     "output_type": "error",
     "traceback": [
      "\u001b[0;31m---------------------------------------------------------------------------\u001b[0m",
      "\u001b[0;31mTypeError\u001b[0m                                 Traceback (most recent call last)",
      "Cell \u001b[0;32mIn[15], line 13\u001b[0m\n\u001b[1;32m     11\u001b[0m             cons\u001b[38;5;241m=\u001b[39m cons\u001b[38;5;241m+\u001b[39m\u001b[38;5;241m1\u001b[39m\n\u001b[1;32m     12\u001b[0m     \u001b[38;5;28;01mreturn\u001b[39;00m \u001b[38;5;28mtuple\u001b[39m(cons,vow)\n\u001b[0;32m---> 13\u001b[0m \u001b[38;5;28mprint\u001b[39m(vowel_and_cosonant_count(text))\n",
      "Cell \u001b[0;32mIn[15], line 7\u001b[0m, in \u001b[0;36mvowel_and_cosonant_count\u001b[0;34m(text)\u001b[0m\n\u001b[1;32m      5\u001b[0m vowel \u001b[38;5;241m=\u001b[39m \u001b[38;5;28mset\u001b[39m(\u001b[38;5;124m\"\u001b[39m\u001b[38;5;124maeiouAEIOU\u001b[39m\u001b[38;5;124m\"\u001b[39m)\n\u001b[1;32m      6\u001b[0m consonant \u001b[38;5;241m=\u001b[39m \u001b[38;5;28mset\u001b[39m(\u001b[38;5;124m\"\u001b[39m\u001b[38;5;124mbcdfghjklmnpqrstvwxyzBCDFGHJKLMNPQRSTVWXYZ\u001b[39m\u001b[38;5;124m\"\u001b[39m)\n\u001b[0;32m----> 7\u001b[0m \u001b[38;5;28;01mfor\u001b[39;00m alphabet \u001b[38;5;129;01min\u001b[39;00m \u001b[38;5;28mstr\u001b[39m:\n\u001b[1;32m      8\u001b[0m     \u001b[38;5;28;01mif\u001b[39;00m alphabet \u001b[38;5;129;01min\u001b[39;00m vowel:\n\u001b[1;32m      9\u001b[0m         vow \u001b[38;5;241m=\u001b[39m vow \u001b[38;5;241m+\u001b[39m\u001b[38;5;241m1\u001b[39m\n",
      "\u001b[0;31mTypeError\u001b[0m: 'type' object is not iterable"
     ]
    }
   ],
   "source": [
    "text=\"UC Berkeley, founded in 1868!\"\n",
    "def vowel_and_cosonant_count(text):\n",
    "    vow=0\n",
    "    cons=0\n",
    "    vowel = set(\"aeiouAEIOU\")\n",
    "    consonant = set(\"bcdfghjklmnpqrstvwxyzBCDFGHJKLMNPQRSTVWXYZ\")\n",
    "    for alphabet in str:\n",
    "        if alphabet in vowel:\n",
    "            vow = vow +1\n",
    "        if alphabet in consonant:\n",
    "            cons= cons+1\n",
    "    return tuple(cons,vow)\n",
    "print(vowel_and_cosonant_count(text))"
   ]
  },
  {
   "cell_type": "code",
   "execution_count": null,
   "id": "acb07a58-65e0-4672-9fe9-1b31ac24de17",
   "metadata": {},
   "outputs": [],
   "source": []
  }
 ],
 "metadata": {
  "kernelspec": {
   "display_name": "Python 3 (ipykernel)",
   "language": "python",
   "name": "python3"
  },
  "language_info": {
   "codemirror_mode": {
    "name": "ipython",
    "version": 3
   },
   "file_extension": ".py",
   "mimetype": "text/x-python",
   "name": "python",
   "nbconvert_exporter": "python",
   "pygments_lexer": "ipython3",
   "version": "3.12.4"
  }
 },
 "nbformat": 4,
 "nbformat_minor": 5
}
