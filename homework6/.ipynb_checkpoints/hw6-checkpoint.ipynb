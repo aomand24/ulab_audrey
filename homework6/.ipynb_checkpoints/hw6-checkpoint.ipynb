{
 "cells": [
  {
   "cell_type": "markdown",
   "id": "21a1f0d2-d75c-4443-b816-1d1db3760454",
   "metadata": {},
   "source": [
    "# HW 6 - Iterables\n",
    "ULAB - Physics and Astronomy Division \\\n",
    "Due **Wednesday, October 30th, 2024 at 11:59pm** on Gradescope\n",
    "\n",
    "### REMINDER: Once you are done with this homework, make sure to include a screenshot of you pushing this notebook inside of your homework6 branch. Make sure to include this screenshot in your branch before submitting to Gradescope!\n",
    "\n",
    "### If there is no screenshot, then you will recieve a zero! \n",
    "\n",
    "General Tip (so you don't get silly points taken off):\n",
    "- Make sure **each function** follows good coding practices (i.e. a comment, detailed names, different steps on each line, etc)."
   ]
  },
  {
   "cell_type": "markdown",
   "id": "8dc7e46b-1e8e-486c-a2e9-d615c687028b",
   "metadata": {},
   "source": [
    "# 1 Lists\n",
    "\n",
    "## 1.1 List Slicing and Striding\n",
    "Write a **function** that takes in a list of integers and returns:\n",
    "\n",
    "- the first 5 elements\n",
    "- the last 5 elements\n",
    "- every 2nd element in the list\n",
    "- the list in reverse order.\n",
    "\n",
    "Use the test case below, along with two other ones (that you make-up):\n",
    "\n",
    "```\n",
    "list = [1, 2, 3, 4, 5, 6, 7, 8, 9, 10, 11, 12, 14, 15, 16, 17, 18, 19, 20]\n",
    "```"
   ]
  },
  {
   "cell_type": "code",
   "execution_count": 268,
   "id": "08dabd73-3dbc-4aab-843a-d4b81102835d",
   "metadata": {},
   "outputs": [
    {
     "name": "stdout",
     "output_type": "stream",
     "text": [
      "[1, 2, 3, 4, 5]\n",
      "[16, 17, 18, 19, 20]\n",
      "[1, 3, 5, 7, 9, 11, 14, 16, 18, 20]\n",
      "[20, 19, 18, 17, 16, 15, 14, 12, 11, 10, 9, 8, 7, 6, 5, 4, 3, 2, 1]\n",
      "[111, 222, 333, 444, 555]\n",
      "[151515, 161616, 171717, 181818, 191919, 202020]\n",
      "[111, 333, 555, 777, 999, 111111, 131313, 151515, 171717, 191919]\n",
      "[202020, 191919, 181818, 171717, 161616, 151515, 141414, 131313, 121212, 111111, 101010, 999, 888, 777, 666, 555, 444, 333, 222, 111]\n",
      "[11, 22, 33, 44, 55]\n",
      "[166, 177, 188, 199, 200]\n",
      "[11, 33, 55, 77, 99, 122, 144, 166, 188, 200]\n",
      "[200, 199, 188, 177, 166, 155, 144, 133, 122, 111, 99, 88, 77, 66, 55, 44, 33, 22, 11]\n"
     ]
    },
    {
     "data": {
      "text/plain": [
       "(None, None, None, None)"
      ]
     },
     "execution_count": 268,
     "metadata": {},
     "output_type": "execute_result"
    }
   ],
   "source": [
    "list = [1, 2, 3, 4, 5, 6, 7, 8, 9, 10, 11, 12, 14, 15, 16, 17, 18, 19, 20]\n",
    "numbers=[11,22,33,44,55,66,77,88,99,111,122,133,144,155,166,177,188,199,200]\n",
    "mylist=[111,222,333,444,555,666,777,888,999,101010,111111,121212,131313,141414,151515,161616,171717,181818,191919,202020]\n",
    "\n",
    "def list_slice_and_stride(x):\n",
    "# takes a list with 20 numbers and returns the first five, the last five, every second, and reversed numbers from the list.\n",
    "    first_five= print(x[0:5]) \n",
    "    last_five= print(x[14:20])\n",
    "    every_2nd= print(x[::2])\n",
    "    reverse_order= print(x[::-1])\n",
    "    return first_five,last_five,every_2nd,reverse_order\n",
    "\n",
    "list_slice_and_stride(list)\n",
    "list_slice_and_stride(mylist)\n",
    "list_slice_and_stride(numbers)\n",
    "\n"
   ]
  },
  {
   "cell_type": "markdown",
   "id": "92c77920-20fc-455e-bf52-10b5a518ed2d",
   "metadata": {},
   "source": [
    "## 1.2 Iterating Over Lists with For Loops\n",
    "Write a **function** that takes in a list, with a **for** loop to return: \n",
    "- the square of each number in the list\n",
    "- the cube of each even number in the list\n",
    "\n",
    "Use the test case below, along with two other ones (that you make-up):\n",
    "\n",
    "```\n",
    "list = [1, 2, 3, 4, 5, 6]\n",
    "```"
   ]
  },
  {
   "cell_type": "code",
   "execution_count": 290,
   "id": "5054c807-a247-4159-9ce1-43020bcc3000",
   "metadata": {},
   "outputs": [
    {
     "data": {
      "text/plain": [
       "([841, 1156, 3025, 5329], [39304])"
      ]
     },
     "execution_count": 290,
     "metadata": {},
     "output_type": "execute_result"
    }
   ],
   "source": [
    "lists=[1,2,3,4,5,6]\n",
    "nums=[2,4,6,8,10]\n",
    "numbers=[29,34,55,73]\n",
    "\n",
    "def square(x):\n",
    "# takes a list and squares each of its items\n",
    "    return [i**2 for i in x] \n",
    "\n",
    "\n",
    "def evens_list(x):\n",
    "# takes a list and returns a list containing only the even numbers\n",
    "    even=[]\n",
    "    for i in x:\n",
    "        if i%2==0:\n",
    "            even.append(i)\n",
    "    return even\n",
    "\n",
    "def even_cubed(x):\n",
    "# takes list of even numbers and cubes each item\n",
    "    return [i**3 for i in evens_list(x)]\n",
    "even_cubed(lists)\n",
    "\n",
    "def square_and_evens_cubed(x):\n",
    "# takes a list and returns all numbers squared and even numbers cubed\n",
    "    return (square(x),even_cubed(x))\n",
    "\n",
    "square_and_evens_cubed(numbers)"
   ]
  },
  {
   "cell_type": "markdown",
   "id": "e2e075da-c004-400d-b796-5435e096816d",
   "metadata": {},
   "source": [
    "# 2 Dictionaries\n",
    "We have not fully covered **dictionaries** in class, but a **dictionary** is a collection of key-value pairs. Each key is unique and is associated with a specific value. Like a real dictionary! \n",
    "\n",
    "You can create a dictionary by placing key-value pairs inside of curly brackets `{}` with a `:` separating the key from the value. \n",
    "\n",
    "Run the cell below for an example:"
   ]
  },
  {
   "cell_type": "code",
   "execution_count": 34,
   "id": "dbdb0f41-4f57-4524-ab51-ff1fc502bdfc",
   "metadata": {},
   "outputs": [
    {
     "name": "stdout",
     "output_type": "stream",
     "text": [
      "{'Mercury': 0.39, 'Venus': 0.72, 'Earth': 1.0, 'Mars': 1.52, 'Jupiter': 5.2, 'Saturn': 9.58, 'Uranus': 19.22, 'Neptune': 30.05}\n"
     ]
    }
   ],
   "source": [
    "# A dictionary that contains some data about the planets in our solar system\n",
    "planet_data = {\n",
    "    \"Mercury\": 0.39, \n",
    "    \"Venus\": 0.72,\n",
    "    \"Earth\": 1.00, # distance from the Sun in AU\n",
    "    \"Mars\": 1.52,\n",
    "    \"Jupiter\": 5.20,\n",
    "    \"Saturn\": 9.58,\n",
    "    \"Uranus\": 19.22,\n",
    "    \"Neptune\": 30.05\n",
    "}   \n",
    "\n",
    "print(planet_data) # print the dictonary"
   ]
  },
  {
   "cell_type": "markdown",
   "id": "886c93f4-0027-4969-ba67-cc12eca04c9c",
   "metadata": {},
   "source": [
    "## 2.1 Looping through a dictionary\n",
    "Write a function that takes in the `planet_data` dictionary and uses a `for` loop to print the names of each of the planets and its distance from the sun."
   ]
  },
  {
   "cell_type": "code",
   "execution_count": 202,
   "id": "a3ab065a-42f5-4aa0-8e0f-38e87c583464",
   "metadata": {},
   "outputs": [
    {
     "name": "stdout",
     "output_type": "stream",
     "text": [
      "Mercury:0.39\n",
      "Venus:0.72\n",
      "Earth:1.0\n",
      "Mars:1.52\n",
      "Jupiter:5.2\n",
      "Saturn:9.58\n",
      "Uranus:19.22\n",
      "Neptune:30.05\n"
     ]
    }
   ],
   "source": [
    "planet_data = {\"Mercury\": 0.39, \"Venus\": 0.72, \"Earth\": 1.00, \"Mars\": 1.52, \"Jupiter\": 5.20, \"Saturn\": 9.58, \"Uranus\": 19.22, \"Neptune\": 30.05}   \n",
    "def planets_and_distance_from_sun(data):\n",
    "# takes a dictionary and reprints them as not in a dictionary\n",
    "    for k in data:\n",
    "        print(str(k) + \":\" + str(data[k]))\n",
    "\n",
    "\n",
    "planets_and_distance_from_sun(planet_data)\n"
   ]
  },
  {
   "cell_type": "markdown",
   "id": "2b38b6fb-ce68-4f20-a8a1-ba241e8db53e",
   "metadata": {},
   "source": [
    "## 2.2 Dictionaries and Conditionals\n",
    "Write a function that uses a while loop to print all the planets that are a minimum distance of 5 AU from the Sun. "
   ]
  },
  {
   "cell_type": "code",
   "execution_count": 262,
   "id": "6e07cf13-efba-4a75-ad75-0428dc31108d",
   "metadata": {},
   "outputs": [
    {
     "name": "stdout",
     "output_type": "stream",
     "text": [
      "Jupiter:5.2\n",
      "Saturn:9.58\n",
      "Uranus:19.22\n",
      "Neptune:30.05\n"
     ]
    }
   ],
   "source": [
    "def far_planets(data):\n",
    "# uses a dictionary and  only prints key items with a value highter than 5\n",
    "    for key, value in data.items():\n",
    "        if value>5:\n",
    "            print(str(key) + ':' + str(value))\n",
    "far_planets(planet_data)"
   ]
  },
  {
   "cell_type": "markdown",
   "id": "5e1ba0c0-5dd9-44e8-895c-73a36d614949",
   "metadata": {},
   "source": [
    "# 3 Observing Stars in a Cluster\n",
    "Your goal is to calculate the total brightness of a group of stars in a star cluster and estimate how long it would take for a telescope to observer each star, depending on their brightness (magnitude). Here is some background information:\n",
    "- The brightness of a star, from a telescope, is measured by its **apparent magnitude**, a LOWER magnitude means a brighter star. A HIGHER magnitude means a fainter star. So a 4th magnitude star is much brighter than a 17th magnitude star.\n",
    "- To convert magnitude into brightness, use the following formula\n",
    "$$\n",
    "\\text{Brightness} = 10^{-\\frac{\\text{magnitude}}{2.5}}\n",
    "$$\n",
    "\n",
    "Use this list of magnitudes and time limit:\n",
    "\n",
    "```\n",
    "magnitudes = [12.5, 13.2, 14.8, 19.1, 21.0, 18.5, 15.3, 10.5, 23.0]\n",
    "time_limit = 500\n",
    "```\n",
    "\n",
    "Expected outcome (your solutions with be the answers to the ???):\n",
    "- Total brightness of the stars: ???\n",
    "- Total observation time for all observable stars: ???\n",
    "- Number of stars that can be observed within 500 seconds: ???"
   ]
  },
  {
   "cell_type": "markdown",
   "id": "336785a7-71bf-434d-982c-dd72dd29cf71",
   "metadata": {},
   "source": [
    "## 3.1 Calculate Brightness\n",
    "1) Write a **function** which inputs a list of star magnitudes (brightnesses).\n",
    "2) Inside your function, use a `for` loop to calculate (with the given formula) the brightness of each star.\n",
    "3) Inside your function, use a `for` loop to sum up the total brightness of all the stars.\n",
    "5) Have your function return the **total brightness** of all the stars and a **list of the brightnesses** of the stars.\n",
    "6) Test out your function with the **given** magnitude values."
   ]
  },
  {
   "cell_type": "code",
   "execution_count": 337,
   "id": "ccc331f4-c029-4a82-810b-4a78d0fa1a2a",
   "metadata": {},
   "outputs": [
    {
     "data": {
      "text/plain": [
       "(8.037198248279666e-05,\n",
       " [1e-05,\n",
       "  5.248074602497734e-06,\n",
       "  1.2022644346174132e-06,\n",
       "  2.29086765276777e-08,\n",
       "  3.981071705534969e-09,\n",
       "  3.981071705534969e-08,\n",
       "  7.585775750291836e-07,\n",
       "  6.309573444801929e-05,\n",
       "  6.309573444801942e-10])"
      ]
     },
     "execution_count": 337,
     "metadata": {},
     "output_type": "execute_result"
    }
   ],
   "source": [
    "magnitudes = [12.5, 13.2, 14.8, 19.1, 21.0, 18.5, 15.3, 10.5, 23.0]\n",
    "def star_brightness(sta):\n",
    "# takes magnitudes of stars and returns their brightness\n",
    "    return [10**(-x/2.5) for x in sta]\n",
    "  \n",
    "def brightness_of_stars(sta):\n",
    "# takes function that returns star brightness, sums it and returns it along with the brightness of single stars as well\n",
    "    return (sum(star_brightness(sta)),star_brightness(sta))\n",
    "brightness_of_stars(magnitudes)"
   ]
  },
  {
   "cell_type": "markdown",
   "id": "9aff0e1c-9f88-4ebb-a05b-d39363d9e88e",
   "metadata": {},
   "source": [
    "## 3.2 Observation Time\n",
    "1) Write a **function** which inputs a list of star magnitudes (brightnesses).\n",
    "2) Inside your function, use a `for` loop to calculate the time to observe each star.\n",
    "- You can just assume each star's observation time is inversely proportional to its brightness with the following formula:\n",
    "\n",
    "$$\n",
    "\\text{Observation Time (in seconds)} \\propto \\frac{1}{\\text{Brightness}} \n",
    "$$\n",
    "\n",
    "3) Inside you function, write a `condition` that ignores stars that have a magnitude greater than 20 (very very faint stars).\n",
    "4) Have your function return the **total observation time** (ignoring >20 magnitudes) and a **list of the times** it would take to observe each individual star.\n",
    "5) Test out your function with the **given** magnitude values."
   ]
  },
  {
   "cell_type": "code",
   "execution_count": 387,
   "id": "044d17cf-82a8-44b6-8958-447632f713f6",
   "metadata": {},
   "outputs": [
    {
     "data": {
      "text/plain": [
       "(71226863.0524925,\n",
       " [99999.99999999999,\n",
       "  190546.07179632442,\n",
       "  831763.7711026708,\n",
       "  43651583.22401666,\n",
       "  25118864.315095823,\n",
       "  1318256.7385564074,\n",
       "  15848.931924611143])"
      ]
     },
     "execution_count": 387,
     "metadata": {},
     "output_type": "execute_result"
    }
   ],
   "source": [
    "\n",
    "magnitudes = [12.5, 13.2, 14.8, 19.1, 21.0, 18.5, 15.3, 10.5, 23.0]\n",
    "def brightness_under_20(x):\n",
    "#takes input, runs it through the function star_brightness from above and removes all numbers who would have a magnitude of 20 or greater.\n",
    "    return [i for i in star_brightness(x) if i>1e-8]\n",
    "\n",
    "\n",
    "def observation_time(x):\n",
    "# calculates the observation times for stars dimmer than a magnitude of 20\n",
    "    return [1/i for i in brightness_under_20(x)]\n",
    "\n",
    "def sums_of_observation(x):\n",
    "# calculates the total observation time and single observation times of given stars under a magnitude of 20\n",
    "    return (sum(observation_time(x)), observation_time(x))\n",
    "\n",
    "sums_of_observation(magnitudes)\n",
    "\n",
    "    \n",
    "        \n",
    "\n",
    "    \n",
    "    "
   ]
  },
  {
   "cell_type": "markdown",
   "id": "102d3c15-0b4f-48a7-8fdc-f896c1841aca",
   "metadata": {},
   "source": [
    "## 3.3 Time Until the Limit\n",
    "1) Write a **function** which inputs a list of star magnitudes (brightnesses) and time limit.\n",
    "   - Make your time limit a default argument.\n",
    "2) Inside your function, make a counter called `total time` and set it to 0.\n",
    "3) Inside your function, use a `while` loop to set the time limit of your observation.\n",
    "4) Inside your function, use assigment operators to update the `total time` observed. \n",
    "5) Inside your function, use a `condition` to skip stars with magnitude 20 or greater. \n",
    "6) Have your function return the **number of stars that can be observed** within the time limit and **how long the observation will take** (this should be less than the time limit).\n",
    "7) Test out your function with the **given** magnitude values and time limit."
   ]
  },
  {
   "cell_type": "code",
   "execution_count": null,
   "id": "5a541a62-0903-41bd-91c9-ee21172069a3",
   "metadata": {},
   "outputs": [],
   "source": [
    "def stars_that_can_be_observed(star, time_limit):\n",
    "    total_time=0\n",
    "    while total_time <= time_limit:\n",
    "        \n",
    "        "
   ]
  },
  {
   "cell_type": "markdown",
   "id": "d2ab246f-9570-483e-b35b-cf1056f20936",
   "metadata": {},
   "source": [
    "## 3.4 Call Upon Your Functions\n",
    "You do not need to rewrite your functions once you have written them! That's what is so awesome about **functions**! \n",
    "\n",
    "1) With a new test case (different magnitudes and time limit) call your three functions you wrote above.\n",
    "2) Print out their return statements, example:\n",
    "\n",
    "```\n",
    ">>> my_return = my_function(my_argument):\n",
    ">>> print(my_return)\n",
    "```"
   ]
  },
  {
   "cell_type": "code",
   "execution_count": 383,
   "id": "4c4c9389-04f5-49bc-823c-a12d6c003b60",
   "metadata": {},
   "outputs": [
    {
     "data": {
      "text/plain": [
       "(297.3089336511096,\n",
       " [6.3095734448019325, 39.810717055349734, 251.18864315095794])"
      ]
     },
     "execution_count": 383,
     "metadata": {},
     "output_type": "execute_result"
    }
   ],
   "source": [
    "new_mags=[30,40,2,4,6]\n",
    "brightness_of_stars(new_mags)\n",
    "sums_of_observation(new_mags)"
   ]
  },
  {
   "cell_type": "markdown",
   "id": "daba92d4-a646-4efc-824d-85b52ea3c573",
   "metadata": {},
   "source": [
    "# 4 Debug the Quadratic Function!\n",
    "The code below does not follow proper coding hygiene (good coding sklls) and is riddled with bugs! Answer the following question and follow the steps below:\n",
    "1) When you run the cell, what is the first error you get? What does this mean? What are three other things wrong with this function?\n",
    "2) Fix the bugs! No importing packages.\n",
    "3) Rewrite the code, such that it follows \"good coding skills\".\n",
    "\n",
    "Try out the test case of `a = 2`, `b = -5` and `c = 3`. You should get `(1.5, 1.0)`. Try out your own test case as well."
   ]
  },
  {
   "cell_type": "code",
   "execution_count": 381,
   "id": "cd66dd28-f8d3-447c-8d20-ff3e31bfaa07",
   "metadata": {},
   "outputs": [
    {
     "ename": "NameError",
     "evalue": "name 'pos_answer' is not defined",
     "output_type": "error",
     "traceback": [
      "\u001b[0;31m---------------------------------------------------------------------------\u001b[0m",
      "\u001b[0;31mNameError\u001b[0m                                 Traceback (most recent call last)",
      "Cell \u001b[0;32mIn[381], line 12\u001b[0m\n\u001b[1;32m      5\u001b[0m         \u001b[38;5;28mprint\u001b[39m(\n\u001b[1;32m      6\u001b[0m     pos_answer \u001b[38;5;241m==\u001b[39m (\u001b[38;5;241m-\u001b[39mb \u001b[38;5;241m+\u001b[39m (b\u001b[38;5;241m*\u001b[39m\u001b[38;5;241m2\u001b[39m \u001b[38;5;241m-\u001b[39m \u001b[38;5;241m4\u001b[39m \u001b[38;5;241m*\u001b[39m a \u001b[38;5;241m*\u001b[39m c)\u001b[38;5;241m*\u001b[39m\u001b[38;5;241m*\u001b[39m(\u001b[38;5;241m1\u001b[39m\u001b[38;5;241m/\u001b[39m\u001b[38;5;241m2\u001b[39m)) \u001b[38;5;241m/\u001b[39m bottom,\n\u001b[1;32m      7\u001b[0m     neg_answer \u001b[38;5;241m=\u001b[39m (\u001b[38;5;241m-\u001b[39mb \u001b[38;5;241m-\u001b[39m (b\u001b[38;5;241m*\u001b[39m\u001b[38;5;241m*\u001b[39m\u001b[38;5;241m2\u001b[39m \u001b[38;5;241m-\u001b[39m \u001b[38;5;241m44\u001b[39m \u001b[38;5;241m*\u001b[39m a \u001b[38;5;241m*\u001b[39m c)\u001b[38;5;241m*\u001b[39m\u001b[38;5;241m*\u001b[39m(\u001b[38;5;241m1\u001b[39m\u001b[38;5;241m/\u001b[39m\u001b[38;5;241m2\u001b[39m)) \u001b[38;5;241m/\u001b[39m\u001b[38;5;241m/\u001b[39m bottom,\n\u001b[1;32m      8\u001b[0m    \n\u001b[1;32m      9\u001b[0m         )\n\u001b[1;32m     11\u001b[0m     \u001b[38;5;28;01mreturn\u001b[39;00m [(\u001b[38;5;28mmax\u001b[39m(neg_answer), \u001b[38;5;28mmin\u001b[39m(pos_answer)) \u001b[38;5;28;01mfor\u001b[39;00m i \u001b[38;5;129;01min\u001b[39;00m \u001b[38;5;28mrange\u001b[39m(\u001b[38;5;241m55\u001b[39m)]\n\u001b[0;32m---> 12\u001b[0m q_f(\u001b[38;5;241m2\u001b[39m,\u001b[38;5;241m-\u001b[39m\u001b[38;5;241m5\u001b[39m,\u001b[38;5;241m3\u001b[39m)\n",
      "Cell \u001b[0;32mIn[381], line 6\u001b[0m, in \u001b[0;36mq_f\u001b[0;34m(a, b, c)\u001b[0m\n\u001b[1;32m      3\u001b[0m bottom \u001b[38;5;241m=\u001b[39m \u001b[38;5;241m2\u001b[39m\u001b[38;5;241m*\u001b[39ma\n\u001b[1;32m      4\u001b[0m \u001b[38;5;28;01mwhile\u001b[39;00m bottom \u001b[38;5;241m!=\u001b[39m \u001b[38;5;241m0\u001b[39m:\n\u001b[1;32m      5\u001b[0m     \u001b[38;5;28mprint\u001b[39m(\n\u001b[0;32m----> 6\u001b[0m pos_answer \u001b[38;5;241m==\u001b[39m (\u001b[38;5;241m-\u001b[39mb \u001b[38;5;241m+\u001b[39m (b\u001b[38;5;241m*\u001b[39m\u001b[38;5;241m2\u001b[39m \u001b[38;5;241m-\u001b[39m \u001b[38;5;241m4\u001b[39m \u001b[38;5;241m*\u001b[39m a \u001b[38;5;241m*\u001b[39m c)\u001b[38;5;241m*\u001b[39m\u001b[38;5;241m*\u001b[39m(\u001b[38;5;241m1\u001b[39m\u001b[38;5;241m/\u001b[39m\u001b[38;5;241m2\u001b[39m)) \u001b[38;5;241m/\u001b[39m bottom,\n\u001b[1;32m      7\u001b[0m neg_answer \u001b[38;5;241m=\u001b[39m (\u001b[38;5;241m-\u001b[39mb \u001b[38;5;241m-\u001b[39m (b\u001b[38;5;241m*\u001b[39m\u001b[38;5;241m*\u001b[39m\u001b[38;5;241m2\u001b[39m \u001b[38;5;241m-\u001b[39m \u001b[38;5;241m44\u001b[39m \u001b[38;5;241m*\u001b[39m a \u001b[38;5;241m*\u001b[39m c)\u001b[38;5;241m*\u001b[39m\u001b[38;5;241m*\u001b[39m(\u001b[38;5;241m1\u001b[39m\u001b[38;5;241m/\u001b[39m\u001b[38;5;241m2\u001b[39m)) \u001b[38;5;241m/\u001b[39m\u001b[38;5;241m/\u001b[39m bottom,\n\u001b[1;32m      8\u001b[0m \n\u001b[1;32m      9\u001b[0m     )\n\u001b[1;32m     11\u001b[0m \u001b[38;5;28;01mreturn\u001b[39;00m [(\u001b[38;5;28mmax\u001b[39m(neg_answer), \u001b[38;5;28mmin\u001b[39m(pos_answer)) \u001b[38;5;28;01mfor\u001b[39;00m i \u001b[38;5;129;01min\u001b[39;00m \u001b[38;5;28mrange\u001b[39m(\u001b[38;5;241m55\u001b[39m)]\n",
      "\u001b[0;31mNameError\u001b[0m: name 'pos_answer' is not defined"
     ]
    }
   ],
   "source": [
    "def q_f(a, b = [1, 10, -5], c = \"three\"):\n",
    "    a = 2\n",
    "    bottom = 2*a\n",
    "    while bottom != 0:\n",
    "        print(\n",
    "    pos_answer == (-b + (b*2 - 4 * a * c)**(1/2)) / bottom,\n",
    "    neg_answer = (-b - (b**2 - 44 * a * c)**(1/2)) // bottom,\n",
    "   \n",
    "        )\n",
    "    \n",
    "    return [(max(neg_answer), min(pos_answer)) for i in range(55)]\n",
    "q_f(2,-5,3)\n",
    "# 1st error was invalid decimal literal, when looking this up it says it happens because you cannot have a variable that starts with a number\n",
    "    # I fixed this by rewritting 2a as 2*a\n",
    "# "
   ]
  },
  {
   "cell_type": "markdown",
   "id": "8cf33b19-9bca-484e-8129-d8a4896a1bfa",
   "metadata": {},
   "source": [
    "# 5 Proper Submission\n",
    "To recieve full credit for this assignment make sure you do the following:\n",
    "1) Copy this jupter notebook from the `ulab_2024` repository into **YOUR** local `homework` branch.\n",
    "   \n",
    "3) Follow the tasks. Make sure to run all the cells so that all output is visible.\n",
    "   \n",
    "5) Push this notebook to your remote `homework6` branch. Refer to the lecture slides for more information.\n",
    "      \n",
    "6) **WARNING!! IF YOU DO NOT FOLLOW THIS STEP YOU WILL RECIEVE A ZERO!**\n",
    "   1) Take a screenshot of your command line when you `push` this notebook from your local `homework6` branch to your remote `homework6` branch. Make sure to prove that you are inside a branch besides `main` or `master` by calling `git branch` and make sure to prove that your `homework6` branch only contains the homework4 folder of Jupyter Notebook you copied over from `ulab_2024` (which can be done by calling `ls`). You could also call `git status` before/after as a way to prove you pushed the proper files to the correct branches.\n",
    "   2)  Include that screenshot in your remote branch when you upload your GitHub branch to Gradescope!"
   ]
  },
  {
   "cell_type": "code",
   "execution_count": null,
   "id": "b0926042-d1cf-4a2e-8fc8-d93395a6a7cf",
   "metadata": {},
   "outputs": [],
   "source": []
  }
 ],
 "metadata": {
  "kernelspec": {
   "display_name": "Python 3 (ipykernel)",
   "language": "python",
   "name": "python3"
  },
  "language_info": {
   "codemirror_mode": {
    "name": "ipython",
    "version": 3
   },
   "file_extension": ".py",
   "mimetype": "text/x-python",
   "name": "python",
   "nbconvert_exporter": "python",
   "pygments_lexer": "ipython3",
   "version": "3.12.4"
  }
 },
 "nbformat": 4,
 "nbformat_minor": 5
}
